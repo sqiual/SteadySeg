{
 "cells": [
  {
   "cell_type": "code",
   "execution_count": 2,
   "id": "f4fec158",
   "metadata": {},
   "outputs": [],
   "source": [
    "#!python train.py"
   ]
  },
  {
   "cell_type": "code",
   "execution_count": null,
   "id": "172b011c",
   "metadata": {},
   "outputs": [
    {
     "name": "stdout",
     "output_type": "stream",
     "text": [
      "Warning: loading library to link with numpy returned an error\n",
      "numpy.ndarray size changed, may indicate binary incompatibility. Expected 96 from C header, got 88 from PyObject\n",
      "=> loading checkpoint 'checkpoint/OURS_bestmodel_fish.pt'\n",
      "Processing testing data files ...\n",
      "the model of epoch 2\n",
      "F1 weighted: 1.000  F1 micro: 1.000  F1 macro: 1.000:  37%|▎| 79/214 [00:21<00:3"
     ]
    }
   ],
   "source": [
    "!python test.py"
   ]
  },
  {
   "cell_type": "code",
   "execution_count": null,
   "id": "8f950008",
   "metadata": {},
   "outputs": [],
   "source": []
  }
 ],
 "metadata": {
  "kernelspec": {
   "display_name": "Python 3 (ipykernel)",
   "language": "python",
   "name": "python3"
  },
  "language_info": {
   "codemirror_mode": {
    "name": "ipython",
    "version": 3
   },
   "file_extension": ".py",
   "mimetype": "text/x-python",
   "name": "python",
   "nbconvert_exporter": "python",
   "pygments_lexer": "ipython3",
   "version": "3.9.13"
  }
 },
 "nbformat": 4,
 "nbformat_minor": 5
}
